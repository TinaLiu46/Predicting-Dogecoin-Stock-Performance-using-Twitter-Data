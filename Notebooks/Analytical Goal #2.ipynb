{
 "cells": [
  {
   "cell_type": "markdown",
   "metadata": {
    "application/vnd.databricks.v1+cell": {
     "inputWidgets": {},
     "nuid": "d4a1b745-ef24-4d90-b0c1-32ce56a74e3f",
     "showTitle": false,
     "title": ""
    }
   },
   "source": [
    "# Read data from Mongodb"
   ]
  },
  {
   "cell_type": "code",
   "execution_count": 0,
   "metadata": {
    "application/vnd.databricks.v1+cell": {
     "inputWidgets": {},
     "nuid": "741d3246-a388-4540-b475-71b723f48c6c",
     "showTitle": false,
     "title": ""
    }
   },
   "outputs": [
    {
     "data": {
      "text/html": [
       "<style scoped>\n",
       "  .ansiout {\n",
       "    display: block;\n",
       "    unicode-bidi: embed;\n",
       "    white-space: pre-wrap;\n",
       "    word-wrap: break-word;\n",
       "    word-break: break-all;\n",
       "    font-family: \"Source Code Pro\", \"Menlo\", monospace;;\n",
       "    font-size: 13px;\n",
       "    color: #555;\n",
       "    margin-left: 4px;\n",
       "    line-height: 19px;\n",
       "  }\n",
       "</style>\n",
       "<div class=\"ansiout\"></div>"
      ]
     },
     "metadata": {
      "application/vnd.databricks.v1+output": {
       "addedWidgets": {},
       "arguments": {},
       "data": "<div class=\"ansiout\"></div>",
       "datasetInfos": [],
       "metadata": {},
       "removedWidgets": [],
       "type": "html"
      }
     },
     "output_type": "display_data"
    }
   ],
   "source": [
    "database = 'MSDS697'\n",
    "collection = 'Tweets'\n",
    "user_name = 'qliu46'\n",
    "password = 'Tina0726'\n",
    "address = 'msds697.us6ly.mongodb.net'#grad address from MongoDB\n",
    "connection_string = f\"mongodb+srv://{user_name}:{password}@{address}/{database}.{collection}\"\n",
    "df = spark.read.format(\"mongo\").option(\"uri\",connection_string).load().dropna(how='any')"
   ]
  },
  {
   "cell_type": "code",
   "execution_count": 0,
   "metadata": {
    "application/vnd.databricks.v1+cell": {
     "inputWidgets": {},
     "nuid": "5e2b9065-3397-42d8-9270-631c4c12ffed",
     "showTitle": false,
     "title": ""
    }
   },
   "outputs": [
    {
     "data": {
      "text/html": [
       "<style scoped>\n",
       "  .ansiout {\n",
       "    display: block;\n",
       "    unicode-bidi: embed;\n",
       "    white-space: pre-wrap;\n",
       "    word-wrap: break-word;\n",
       "    word-break: break-all;\n",
       "    font-family: \"Source Code Pro\", \"Menlo\", monospace;;\n",
       "    font-size: 13px;\n",
       "    color: #555;\n",
       "    margin-left: 4px;\n",
       "    line-height: 19px;\n",
       "  }\n",
       "</style>\n",
       "<div class=\"ansiout\">+--------------------+---------+--------------------+-------------------+-------------------+----------+-----------+-----------+-------------+--------------------+\n",
       "           Adj Close|   Volumn|                 _id|       created_date|               date|like_count|quote_count|reply_count|retweet_count|                text|\n",
       "+--------------------+---------+--------------------+-------------------+-------------------+----------+-----------+-----------+-------------+--------------------+\n",
       "0.002375999931246...| 84321565|{62252dde85be0052...|2020-01-21 00:00:00|2020-01-21 00:00:00|         0|          0|          0|            4|RT @unlockbc: Blo...|\n",
       "0.002375999931246...| 84321565|{62252dde85be0052...|2020-01-21 00:00:00|2020-01-21 00:00:00|         0|          0|          0|            4|RT @unlockbc: Blo...|\n",
       "0.002490000100806...|117752841|{62252dde85be0052...|2020-01-17 00:00:00|2020-01-17 00:00:00|         2|          0|          0|            3|A must read, Why ...|\n",
       "0.002490000100806...|117752841|{62252dde85be0052...|2020-01-17 00:00:00|2020-01-17 00:00:00|         0|          0|          0|            3|RT @stephenajulu:...|\n",
       "0.002256999956443906| 82421399|{62252dde85be0052...|2020-01-25 00:00:00|2020-01-25 00:00:00|         0|          0|          0|            0|#DeutscheBank Pre...|\n",
       "+--------------------+---------+--------------------+-------------------+-------------------+----------+-----------+-----------+-------------+--------------------+\n",
       "only showing top 5 rows\n",
       "\n",
       "</div>"
      ]
     },
     "metadata": {
      "application/vnd.databricks.v1+output": {
       "addedWidgets": {},
       "arguments": {},
       "data": "<div class=\"ansiout\">+--------------------+---------+--------------------+-------------------+-------------------+----------+-----------+-----------+-------------+--------------------+\n|           Adj Close|   Volumn|                 _id|       created_date|               date|like_count|quote_count|reply_count|retweet_count|                text|\n+--------------------+---------+--------------------+-------------------+-------------------+----------+-----------+-----------+-------------+--------------------+\n|0.002375999931246...| 84321565|{62252dde85be0052...|2020-01-21 00:00:00|2020-01-21 00:00:00|         0|          0|          0|            4|RT @unlockbc: Blo...|\n|0.002375999931246...| 84321565|{62252dde85be0052...|2020-01-21 00:00:00|2020-01-21 00:00:00|         0|          0|          0|            4|RT @unlockbc: Blo...|\n|0.002490000100806...|117752841|{62252dde85be0052...|2020-01-17 00:00:00|2020-01-17 00:00:00|         2|          0|          0|            3|A must read, Why ...|\n|0.002490000100806...|117752841|{62252dde85be0052...|2020-01-17 00:00:00|2020-01-17 00:00:00|         0|          0|          0|            3|RT @stephenajulu:...|\n|0.002256999956443906| 82421399|{62252dde85be0052...|2020-01-25 00:00:00|2020-01-25 00:00:00|         0|          0|          0|            0|#DeutscheBank Pre...|\n+--------------------+---------+--------------------+-------------------+-------------------+----------+-----------+-----------+-------------+--------------------+\nonly showing top 5 rows\n\n</div>",
       "datasetInfos": [],
       "metadata": {},
       "removedWidgets": [],
       "type": "html"
      }
     },
     "output_type": "display_data"
    }
   ],
   "source": [
    "df.show(5)"
   ]
  },
  {
   "cell_type": "markdown",
   "metadata": {
    "application/vnd.databricks.v1+cell": {
     "inputWidgets": {},
     "nuid": "ca9179d2-c8b2-4465-8de1-1ad94812f9f4",
     "showTitle": false,
     "title": ""
    }
   },
   "source": [
    "# General data preprocess"
   ]
  },
  {
   "cell_type": "markdown",
   "metadata": {
    "application/vnd.databricks.v1+cell": {
     "inputWidgets": {},
     "nuid": "b44293d0-705d-411e-98ca-2b56bd3f9f0d",
     "showTitle": false,
     "title": ""
    }
   },
   "source": [
    "## Get daily average features and daily price"
   ]
  },
  {
   "cell_type": "code",
   "execution_count": 0,
   "metadata": {
    "application/vnd.databricks.v1+cell": {
     "inputWidgets": {},
     "nuid": "5328df6f-1d3d-4e34-8e1a-2b528760f8f4",
     "showTitle": false,
     "title": ""
    }
   },
   "outputs": [
    {
     "data": {
      "text/html": [
       "<style scoped>\n",
       "  .ansiout {\n",
       "    display: block;\n",
       "    unicode-bidi: embed;\n",
       "    white-space: pre-wrap;\n",
       "    word-wrap: break-word;\n",
       "    word-break: break-all;\n",
       "    font-family: \"Source Code Pro\", \"Menlo\", monospace;;\n",
       "    font-size: 13px;\n",
       "    color: #555;\n",
       "    margin-left: 4px;\n",
       "    line-height: 19px;\n",
       "  }\n",
       "</style>\n",
       "<div class=\"ansiout\">+-------------------+----------+-----------+-----------+-------------+------------------+\n",
       "               date|like_count|quote_count|reply_count|retweet_count|             label|\n",
       "+-------------------+----------+-----------+-----------+-------------+------------------+\n",
       "2020-01-21 00:00:00|         0|          0|          0|            4|2.3759999312460423|\n",
       "2020-01-21 00:00:00|         0|          0|          0|            4|2.3759999312460423|\n",
       "2020-01-17 00:00:00|         2|          0|          0|            3|2.4900001008063555|\n",
       "2020-01-17 00:00:00|         0|          0|          0|            3|2.4900001008063555|\n",
       "2020-01-25 00:00:00|         0|          0|          0|            0| 2.256999956443906|\n",
       "+-------------------+----------+-----------+-----------+-------------+------------------+\n",
       "only showing top 5 rows\n",
       "\n",
       "CPU times: user 54 ms, sys: 29.5 ms, total: 83.5 ms\n",
       "Wall time: 18.1 s\n",
       "</div>"
      ]
     },
     "metadata": {
      "application/vnd.databricks.v1+output": {
       "addedWidgets": {},
       "arguments": {},
       "data": "<div class=\"ansiout\">+-------------------+----------+-----------+-----------+-------------+------------------+\n|               date|like_count|quote_count|reply_count|retweet_count|             label|\n+-------------------+----------+-----------+-----------+-------------+------------------+\n|2020-01-21 00:00:00|         0|          0|          0|            4|2.3759999312460423|\n|2020-01-21 00:00:00|         0|          0|          0|            4|2.3759999312460423|\n|2020-01-17 00:00:00|         2|          0|          0|            3|2.4900001008063555|\n|2020-01-17 00:00:00|         0|          0|          0|            3|2.4900001008063555|\n|2020-01-25 00:00:00|         0|          0|          0|            0| 2.256999956443906|\n+-------------------+----------+-----------+-----------+-------------+------------------+\nonly showing top 5 rows\n\nCPU times: user 54 ms, sys: 29.5 ms, total: 83.5 ms\nWall time: 18.1 s\n</div>",
       "datasetInfos": [],
       "metadata": {},
       "removedWidgets": [],
       "type": "html"
      }
     },
     "output_type": "display_data"
    }
   ],
   "source": [
    "%%time\n",
    "# Remove columns _id, created_date, text, Volumn\n",
    "# Times 1000 to close price to avoid overflow\n",
    "df_price = df.drop(\"_id\", \"created_date\", \"text\", \"Volumn\").withColumnRenamed(\"Adj Close\", \"label\")\n",
    "df_price = df_price.withColumn('label_1000', df_price['label']*1000).drop(\"label\").withColumnRenamed(\"label_1000\", \"label\")\n",
    "df_price.show(5)"
   ]
  },
  {
   "cell_type": "code",
   "execution_count": 0,
   "metadata": {
    "application/vnd.databricks.v1+cell": {
     "inputWidgets": {},
     "nuid": "5c78cca1-41b1-47eb-addc-a18b6c6639c2",
     "showTitle": false,
     "title": ""
    }
   },
   "outputs": [
    {
     "data": {
      "text/html": [
       "<style scoped>\n",
       "  .ansiout {\n",
       "    display: block;\n",
       "    unicode-bidi: embed;\n",
       "    white-space: pre-wrap;\n",
       "    word-wrap: break-word;\n",
       "    word-break: break-all;\n",
       "    font-family: \"Source Code Pro\", \"Menlo\", monospace;;\n",
       "    font-size: 13px;\n",
       "    color: #555;\n",
       "    margin-left: 4px;\n",
       "    line-height: 19px;\n",
       "  }\n",
       "</style>\n",
       "<div class=\"ansiout\">+-------------------+-------------------+--------------------+-------------------+------------------+\n",
       "     avg_like_count|    avg_quote_count|     avg_reply_count|  avg_retweet_count|             label|\n",
       "+-------------------+-------------------+--------------------+-------------------+------------------+\n",
       " 0.8579234972677595|                0.0| 0.09289617486338798|    6.3224043715847|  2.03300011344254|\n",
       "  0.521505376344086|0.03225806451612903| 0.05913978494623656|  2.849462365591398|2.0089999306946993|\n",
       "0.46994535519125685|0.01092896174863388| 0.07650273224043716|  22.19672131147541| 2.145000034943223|\n",
       "0.20441988950276244|                0.0|0.022099447513812154|  1.160220994475138|2.2410000674426556|\n",
       " 0.3891891891891892|                0.0| 0.04864864864864865|0.31351351351351353|2.4190000258386135|\n",
       "+-------------------+-------------------+--------------------+-------------------+------------------+\n",
       "only showing top 5 rows\n",
       "\n",
       "CPU times: user 22.8 ms, sys: 7.72 ms, total: 30.6 ms\n",
       "Wall time: 5.89 s\n",
       "</div>"
      ]
     },
     "metadata": {
      "application/vnd.databricks.v1+output": {
       "addedWidgets": {},
       "arguments": {},
       "data": "<div class=\"ansiout\">+-------------------+-------------------+--------------------+-------------------+------------------+\n|     avg_like_count|    avg_quote_count|     avg_reply_count|  avg_retweet_count|             label|\n+-------------------+-------------------+--------------------+-------------------+------------------+\n| 0.8579234972677595|                0.0| 0.09289617486338798|    6.3224043715847|  2.03300011344254|\n|  0.521505376344086|0.03225806451612903| 0.05913978494623656|  2.849462365591398|2.0089999306946993|\n|0.46994535519125685|0.01092896174863388| 0.07650273224043716|  22.19672131147541| 2.145000034943223|\n|0.20441988950276244|                0.0|0.022099447513812154|  1.160220994475138|2.2410000674426556|\n| 0.3891891891891892|                0.0| 0.04864864864864865|0.31351351351351353|2.4190000258386135|\n+-------------------+-------------------+--------------------+-------------------+------------------+\nonly showing top 5 rows\n\nCPU times: user 22.8 ms, sys: 7.72 ms, total: 30.6 ms\nWall time: 5.89 s\n</div>",
       "datasetInfos": [],
       "metadata": {},
       "removedWidgets": [],
       "type": "html"
      }
     },
     "output_type": "display_data"
    }
   ],
   "source": [
    "%%time\n",
    "# group by date and get average features\n",
    "# remove date after aggregation\n",
    "df_daily_price = df_price.groupBy(\"date\").avg()\\\n",
    "                        .withColumnRenamed(\"avg(like_count)\", \"avg_like_count\")\\\n",
    "                        .withColumnRenamed(\"avg(quote_count)\", \"avg_quote_count\")\\\n",
    "                        .withColumnRenamed(\"avg(reply_count)\", \"avg_reply_count\")\\\n",
    "                        .withColumnRenamed(\"avg(retweet_count)\", \"avg_retweet_count\")\\\n",
    "                        .withColumnRenamed(\"avg(label)\", \"label\")\\\n",
    "                        .orderBy(\"date\").drop(\"date\")\n",
    "df_daily_price.show(5)"
   ]
  },
  {
   "cell_type": "code",
   "execution_count": 0,
   "metadata": {
    "application/vnd.databricks.v1+cell": {
     "inputWidgets": {},
     "nuid": "1875310e-8e7b-463c-bf62-414ef918dcd1",
     "showTitle": false,
     "title": ""
    }
   },
   "outputs": [
    {
     "data": {
      "text/html": [
       "<style scoped>\n",
       "  .ansiout {\n",
       "    display: block;\n",
       "    unicode-bidi: embed;\n",
       "    white-space: pre-wrap;\n",
       "    word-wrap: break-word;\n",
       "    word-break: break-all;\n",
       "    font-family: \"Source Code Pro\", \"Menlo\", monospace;;\n",
       "    font-size: 13px;\n",
       "    color: #555;\n",
       "    margin-left: 4px;\n",
       "    line-height: 19px;\n",
       "  }\n",
       "</style>\n",
       "<div class=\"ansiout\">CPU times: user 1.67 ms, sys: 4.01 ms, total: 5.68 ms\n",
       "Wall time: 67.3 ms\n",
       "</div>"
      ]
     },
     "metadata": {
      "application/vnd.databricks.v1+output": {
       "addedWidgets": {},
       "arguments": {},
       "data": "<div class=\"ansiout\">CPU times: user 1.67 ms, sys: 4.01 ms, total: 5.68 ms\nWall time: 67.3 ms\n</div>",
       "datasetInfos": [],
       "metadata": {},
       "removedWidgets": [],
       "type": "html"
      }
     },
     "output_type": "display_data"
    }
   ],
   "source": [
    "%%time\n",
    "from pyspark.ml.feature import VectorAssembler\n",
    "va = VectorAssembler(outputCol=\"features\", \n",
    "                     inputCols=df_daily_price.columns[1:]) #except the first col\n",
    "avg_features = va.transform(df_daily_price).select(\"features\", \"label\")"
   ]
  },
  {
   "cell_type": "code",
   "execution_count": 0,
   "metadata": {
    "application/vnd.databricks.v1+cell": {
     "inputWidgets": {},
     "nuid": "b6cf9697-535d-46b0-ba64-9492b1e7597a",
     "showTitle": false,
     "title": ""
    }
   },
   "outputs": [
    {
     "data": {
      "text/html": [
       "<style scoped>\n",
       "  .ansiout {\n",
       "    display: block;\n",
       "    unicode-bidi: embed;\n",
       "    white-space: pre-wrap;\n",
       "    word-wrap: break-word;\n",
       "    word-break: break-all;\n",
       "    font-family: \"Source Code Pro\", \"Menlo\", monospace;;\n",
       "    font-size: 13px;\n",
       "    color: #555;\n",
       "    margin-left: 4px;\n",
       "    line-height: 19px;\n",
       "  }\n",
       "</style>\n",
       "<div class=\"ansiout\">+--------------------+------------------+\n",
       "            features|             label|\n",
       "+--------------------+------------------+\n",
       "[0.0,0.0928961748...|  2.03300011344254|\n",
       "[0.03225806451612...|2.0089999306946993|\n",
       "[0.01092896174863...| 2.145000034943223|\n",
       "[0.0,0.0220994475...|2.2410000674426556|\n",
       "[0.0,0.0486486486...|2.4190000258386135|\n",
       "+--------------------+------------------+\n",
       "only showing top 5 rows\n",
       "\n",
       "</div>"
      ]
     },
     "metadata": {
      "application/vnd.databricks.v1+output": {
       "addedWidgets": {},
       "arguments": {},
       "data": "<div class=\"ansiout\">+--------------------+------------------+\n|            features|             label|\n+--------------------+------------------+\n|[0.0,0.0928961748...|  2.03300011344254|\n|[0.03225806451612...|2.0089999306946993|\n|[0.01092896174863...| 2.145000034943223|\n|[0.0,0.0220994475...|2.2410000674426556|\n|[0.0,0.0486486486...|2.4190000258386135|\n+--------------------+------------------+\nonly showing top 5 rows\n\n</div>",
       "datasetInfos": [],
       "metadata": {},
       "removedWidgets": [],
       "type": "html"
      }
     },
     "output_type": "display_data"
    }
   ],
   "source": [
    "avg_features.show(5)"
   ]
  },
  {
   "cell_type": "markdown",
   "metadata": {
    "application/vnd.databricks.v1+cell": {
     "inputWidgets": {},
     "nuid": "ee563366-9137-4d57-aed4-6f6c87151f77",
     "showTitle": false,
     "title": ""
    }
   },
   "source": [
    "# EDA"
   ]
  },
  {
   "cell_type": "markdown",
   "metadata": {
    "application/vnd.databricks.v1+cell": {
     "inputWidgets": {},
     "nuid": "26daa2cd-00ea-4d76-b2be-4bcdba926187",
     "showTitle": false,
     "title": ""
    }
   },
   "source": [
    "## Use summary to see the brief data distribution"
   ]
  },
  {
   "cell_type": "code",
   "execution_count": 0,
   "metadata": {
    "application/vnd.databricks.v1+cell": {
     "inputWidgets": {},
     "nuid": "80cefb36-9719-4cfe-b8ac-8bb43601da82",
     "showTitle": false,
     "title": ""
    }
   },
   "outputs": [
    {
     "data": {
      "text/html": [
       "<style scoped>\n",
       "  .ansiout {\n",
       "    display: block;\n",
       "    unicode-bidi: embed;\n",
       "    white-space: pre-wrap;\n",
       "    word-wrap: break-word;\n",
       "    word-break: break-all;\n",
       "    font-family: \"Source Code Pro\", \"Menlo\", monospace;;\n",
       "    font-size: 13px;\n",
       "    color: #555;\n",
       "    margin-left: 4px;\n",
       "    line-height: 19px;\n",
       "  }\n",
       "</style>\n",
       "<div class=\"ansiout\">+-------+-------------------+--------------------+--------------------+-------------------+-------------------+\n",
       "summary|     avg_like_count|     avg_quote_count|     avg_reply_count|  avg_retweet_count|              label|\n",
       "+-------+-------------------+--------------------+--------------------+-------------------+-------------------+\n",
       "  count|                130|                 130|                 130|                130|                130|\n",
       "   mean| 0.5560234422777686|0.015923769913273437| 0.08008327730929382| 3.0804852025071923| 2.2749846192220082|\n",
       " stddev|  0.600160592361296|0.035063795596012796| 0.11510793339049628|  3.647230033316622|0.36541576185041796|\n",
       "    min|0.05291005291005291|                 0.0|                 0.0|0.16901408450704225| 1.5369999455288053|\n",
       "    25%| 0.2568306010928962|                 0.0|0.026737967914438502| 0.9735449735449735|  1.990000018849969|\n",
       "    50%| 0.3825136612021858|0.005555555555555556|  0.0582010582010582| 1.7765957446808511| 2.3240000009536743|\n",
       "    75%| 0.5904255319148937|0.016666666666666666| 0.09239130434782608| 3.5274725274725274| 2.4939998984336853|\n",
       "    max|  4.767195767195767| 0.33513513513513515|  0.9459459459459459|  22.19672131147541| 3.2319999299943447|\n",
       "+-------+-------------------+--------------------+--------------------+-------------------+-------------------+\n",
       "\n",
       "</div>"
      ]
     },
     "metadata": {
      "application/vnd.databricks.v1+output": {
       "addedWidgets": {},
       "arguments": {},
       "data": "<div class=\"ansiout\">+-------+-------------------+--------------------+--------------------+-------------------+-------------------+\n|summary|     avg_like_count|     avg_quote_count|     avg_reply_count|  avg_retweet_count|              label|\n+-------+-------------------+--------------------+--------------------+-------------------+-------------------+\n|  count|                130|                 130|                 130|                130|                130|\n|   mean| 0.5560234422777686|0.015923769913273437| 0.08008327730929382| 3.0804852025071923| 2.2749846192220082|\n| stddev|  0.600160592361296|0.035063795596012796| 0.11510793339049628|  3.647230033316622|0.36541576185041796|\n|    min|0.05291005291005291|                 0.0|                 0.0|0.16901408450704225| 1.5369999455288053|\n|    25%| 0.2568306010928962|                 0.0|0.026737967914438502| 0.9735449735449735|  1.990000018849969|\n|    50%| 0.3825136612021858|0.005555555555555556|  0.0582010582010582| 1.7765957446808511| 2.3240000009536743|\n|    75%| 0.5904255319148937|0.016666666666666666| 0.09239130434782608| 3.5274725274725274| 2.4939998984336853|\n|    max|  4.767195767195767| 0.33513513513513515|  0.9459459459459459|  22.19672131147541| 3.2319999299943447|\n+-------+-------------------+--------------------+--------------------+-------------------+-------------------+\n\n</div>",
       "datasetInfos": [],
       "metadata": {},
       "removedWidgets": [],
       "type": "html"
      }
     },
     "output_type": "display_data"
    }
   ],
   "source": [
    "df_daily_price.summary().show()"
   ]
  },
  {
   "cell_type": "markdown",
   "metadata": {
    "application/vnd.databricks.v1+cell": {
     "inputWidgets": {},
     "nuid": "9d2ce9c9-669c-489d-b32a-36701cfd9b55",
     "showTitle": false,
     "title": ""
    }
   },
   "source": [
    "The mean of the retweet per day is less than 1, the 75% it about 3.5, but the max is 22! We may wanna do some transformation on it later.\n",
    "\n",
    "Other features also show some extreme values, can consider to operate on them as well."
   ]
  },
  {
   "cell_type": "markdown",
   "metadata": {
    "application/vnd.databricks.v1+cell": {
     "inputWidgets": {},
     "nuid": "db903aa4-e5ac-417f-a66b-3d38206e0a0a",
     "showTitle": false,
     "title": ""
    }
   },
   "source": [
    "## scatter plot of features and stock close price"
   ]
  },
  {
   "cell_type": "code",
   "execution_count": 0,
   "metadata": {
    "application/vnd.databricks.v1+cell": {
     "inputWidgets": {},
     "nuid": "05d8e19e-f966-4097-b9dc-12fb9ab4db71",
     "showTitle": false,
     "title": ""
    }
   },
   "outputs": [
    {
     "data": {
      "image/png": "[encoded data removed]"
     },
     "metadata": {
      "application/vnd.databricks.v1+output": {
       "addedWidgets": {},
       "arguments": {},
       "data": "data:image/png;base64,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",
       "datasetInfos": [],
       "metadata": {
        "imageDimensions": {
         "height": 280,
         "width": 1720
        }
       },
       "removedWidgets": [],
       "type": "image"
      },
      "image/png": {
       "height": 280,
       "width": 1720
      }
     },
     "output_type": "display_data"
    }
   ],
   "source": [
    "import matplotlib.pyplot as plt\n",
    "price_list=df_daily_price.toPandas()[\"label\"].values.tolist()\n",
    "fig, axes = plt.subplots(1, 4, figsize=(24, 4))\n",
    "for i, col in enumerate(df_daily_price.columns[:-1]):\n",
    "    col_list=df_daily_price.toPandas()[col].values.tolist()\n",
    "    axes[i].scatter(col_list, price_list)\n",
    "    axes[i].set_title(col)\n",
    "plt.tight_layout()\n",
    "plt.show()"
   ]
  },
  {
   "cell_type": "markdown",
   "metadata": {
    "application/vnd.databricks.v1+cell": {
     "inputWidgets": {},
     "nuid": "59d566db-3b91-4637-98c3-e85c443a0e1b",
     "showTitle": false,
     "title": ""
    }
   },
   "source": [
    "several points are abnormal, we can try log / normalization / truncate later"
   ]
  },
  {
   "cell_type": "markdown",
   "metadata": {
    "application/vnd.databricks.v1+cell": {
     "inputWidgets": {},
     "nuid": "a39eb25d-7737-4f10-8b4e-14617058c55a",
     "showTitle": false,
     "title": ""
    }
   },
   "source": [
    "## Divide the dataset into training and vaildation sets."
   ]
  },
  {
   "cell_type": "code",
   "execution_count": 0,
   "metadata": {
    "application/vnd.databricks.v1+cell": {
     "inputWidgets": {},
     "nuid": "146bd932-34ae-4ab4-9e5e-eae174f0980c",
     "showTitle": false,
     "title": ""
    }
   },
   "outputs": [
    {
     "data": {
      "text/html": [
       "<style scoped>\n",
       "  .ansiout {\n",
       "    display: block;\n",
       "    unicode-bidi: embed;\n",
       "    white-space: pre-wrap;\n",
       "    word-wrap: break-word;\n",
       "    word-break: break-all;\n",
       "    font-family: \"Source Code Pro\", \"Menlo\", monospace;;\n",
       "    font-size: 13px;\n",
       "    color: #555;\n",
       "    margin-left: 4px;\n",
       "    line-height: 19px;\n",
       "  }\n",
       "</style>\n",
       "<div class=\"ansiout\"></div>"
      ]
     },
     "metadata": {
      "application/vnd.databricks.v1+output": {
       "addedWidgets": {},
       "arguments": {},
       "data": "<div class=\"ansiout\"></div>",
       "datasetInfos": [],
       "metadata": {},
       "removedWidgets": [],
       "type": "html"
      }
     },
     "output_type": "display_data"
    }
   ],
   "source": [
    "#Divide the dataset into training and vaildation sets.\n",
    "splits = avg_features.randomSplit([0.8, 0.2])\n",
    "\n",
    "#cache() : the algorithm is interative and training and data sets are going to be reused many times.\n",
    "feat_train = splits[0].cache()\n",
    "feat_valid = splits[1].cache()"
   ]
  },
  {
   "cell_type": "markdown",
   "metadata": {
    "application/vnd.databricks.v1+cell": {
     "inputWidgets": {},
     "nuid": "0a06f21e-71da-4a6a-b047-09d35567bbfd",
     "showTitle": false,
     "title": ""
    }
   },
   "source": [
    "# Random Forest "
   ]
  },
  {
   "cell_type": "markdown",
   "metadata": {
    "application/vnd.databricks.v1+cell": {
     "inputWidgets": {},
     "nuid": "1eced671-9989-435a-b61d-f102cd7871b2",
     "showTitle": false,
     "title": ""
    }
   },
   "source": [
    "## Train random forest regression model"
   ]
  },
  {
   "cell_type": "code",
   "execution_count": 0,
   "metadata": {
    "application/vnd.databricks.v1+cell": {
     "inputWidgets": {},
     "nuid": "45152609-993e-445b-a822-589a25d04fca",
     "showTitle": false,
     "title": ""
    }
   },
   "outputs": [
    {
     "data": {
      "text/html": [
       "<style scoped>\n",
       "  .ansiout {\n",
       "    display: block;\n",
       "    unicode-bidi: embed;\n",
       "    white-space: pre-wrap;\n",
       "    word-wrap: break-word;\n",
       "    word-break: break-all;\n",
       "    font-family: \"Source Code Pro\", \"Menlo\", monospace;;\n",
       "    font-size: 13px;\n",
       "    color: #555;\n",
       "    margin-left: 4px;\n",
       "    line-height: 19px;\n",
       "  }\n",
       "</style>\n",
       "<div class=\"ansiout\"></div>"
      ]
     },
     "metadata": {
      "application/vnd.databricks.v1+output": {
       "addedWidgets": {},
       "arguments": {},
       "data": "<div class=\"ansiout\"></div>",
       "datasetInfos": [],
       "metadata": {},
       "removedWidgets": [],
       "type": "html"
      }
     },
     "output_type": "display_data"
    }
   ],
   "source": [
    "from pyspark.ml.regression import RandomForestRegressor"
   ]
  },
  {
   "cell_type": "code",
   "execution_count": 0,
   "metadata": {
    "application/vnd.databricks.v1+cell": {
     "inputWidgets": {},
     "nuid": "d0250a65-810f-46e1-89fd-dea2289531c6",
     "showTitle": false,
     "title": ""
    }
   },
   "outputs": [
    {
     "data": {
      "text/html": [
       "<style scoped>\n",
       "  .ansiout {\n",
       "    display: block;\n",
       "    unicode-bidi: embed;\n",
       "    white-space: pre-wrap;\n",
       "    word-wrap: break-word;\n",
       "    word-break: break-all;\n",
       "    font-family: \"Source Code Pro\", \"Menlo\", monospace;;\n",
       "    font-size: 13px;\n",
       "    color: #555;\n",
       "    margin-left: 4px;\n",
       "    line-height: 19px;\n",
       "  }\n",
       "</style>\n",
       "<div class=\"ansiout\">CPU times: user 31.2 ms, sys: 5.16 ms, total: 36.4 ms\n",
       "Wall time: 4.31 s\n",
       "</div>"
      ]
     },
     "metadata": {
      "application/vnd.databricks.v1+output": {
       "addedWidgets": {},
       "arguments": {},
       "data": "<div class=\"ansiout\">CPU times: user 31.2 ms, sys: 5.16 ms, total: 36.4 ms\nWall time: 4.31 s\n</div>",
       "datasetInfos": [],
       "metadata": {},
       "removedWidgets": [],
       "type": "html"
      }
     },
     "output_type": "display_data"
    }
   ],
   "source": [
    "%%time\n",
    "# train the model\n",
    "rf = RandomForestRegressor(featuresCol=\"features\", labelCol=\"label\")\n",
    "rf_model = rf.fit(feat_train)"
   ]
  },
  {
   "cell_type": "markdown",
   "metadata": {
    "application/vnd.databricks.v1+cell": {
     "inputWidgets": {},
     "nuid": "c731db42-3f07-4343-8f53-ed4d7fd72e40",
     "showTitle": false,
     "title": ""
    }
   },
   "source": [
    "## Evaluate random forest regression model"
   ]
  },
  {
   "cell_type": "code",
   "execution_count": 0,
   "metadata": {
    "application/vnd.databricks.v1+cell": {
     "inputWidgets": {},
     "nuid": "6266a7e6-06ce-4aa4-a378-70d2d9781e8a",
     "showTitle": false,
     "title": ""
    }
   },
   "outputs": [
    {
     "data": {
      "text/html": [
       "<style scoped>\n",
       "  .ansiout {\n",
       "    display: block;\n",
       "    unicode-bidi: embed;\n",
       "    white-space: pre-wrap;\n",
       "    word-wrap: break-word;\n",
       "    word-break: break-all;\n",
       "    font-family: \"Source Code Pro\", \"Menlo\", monospace;;\n",
       "    font-size: 13px;\n",
       "    color: #555;\n",
       "    margin-left: 4px;\n",
       "    line-height: 19px;\n",
       "  }\n",
       "</style>\n",
       "<div class=\"ansiout\">Out[22]: 0.9308831551122357</div>"
      ]
     },
     "metadata": {
      "application/vnd.databricks.v1+output": {
       "addedWidgets": {},
       "arguments": {},
       "data": "<div class=\"ansiout\">Out[22]: 0.9308831551122357</div>",
       "datasetInfos": [],
       "metadata": {},
       "removedWidgets": [],
       "type": "html"
      }
     },
     "output_type": "display_data"
    }
   ],
   "source": [
    "from pyspark.ml.evaluation import RegressionEvaluator\n",
    "# Make predictions.\n",
    "rf_predictions = rf_model.transform(feat_valid)\n",
    "\n",
    "# Select (prediction, true label) and compute test score\n",
    "evaluator = RegressionEvaluator(\n",
    "    labelCol=\"label\", predictionCol=\"prediction\", metricName=\"r2\")\n",
    "\n",
    "evaluator.evaluate(rf_predictions)"
   ]
  },
  {
   "cell_type": "code",
   "execution_count": 0,
   "metadata": {
    "application/vnd.databricks.v1+cell": {
     "inputWidgets": {},
     "nuid": "d57e7f80-9e23-45d3-a5bb-5c0e26dba25a",
     "showTitle": false,
     "title": ""
    }
   },
   "outputs": [
    {
     "data": {
      "text/html": [
       "<style scoped>\n",
       "  .ansiout {\n",
       "    display: block;\n",
       "    unicode-bidi: embed;\n",
       "    white-space: pre-wrap;\n",
       "    word-wrap: break-word;\n",
       "    word-break: break-all;\n",
       "    font-family: \"Source Code Pro\", \"Menlo\", monospace;;\n",
       "    font-size: 13px;\n",
       "    color: #555;\n",
       "    margin-left: 4px;\n",
       "    line-height: 19px;\n",
       "  }\n",
       "</style>\n",
       "<div class=\"ansiout\">Out[23]: 0.00940527872603869</div>"
      ]
     },
     "metadata": {
      "application/vnd.databricks.v1+output": {
       "addedWidgets": {},
       "arguments": {},
       "data": "<div class=\"ansiout\">Out[23]: 0.00940527872603869</div>",
       "datasetInfos": [],
       "metadata": {},
       "removedWidgets": [],
       "type": "html"
      }
     },
     "output_type": "display_data"
    }
   ],
   "source": [
    "# Select (prediction, true label) and compute test error\n",
    "evaluator = RegressionEvaluator(\n",
    "    labelCol=\"label\", predictionCol=\"prediction\", metricName=\"mse\")\n",
    "evaluator.evaluate(rf_predictions)"
   ]
  },
  {
   "cell_type": "markdown",
   "metadata": {
    "application/vnd.databricks.v1+cell": {
     "inputWidgets": {},
     "nuid": "ed71a222-e82e-4644-9b6d-bb2d7153923d",
     "showTitle": false,
     "title": ""
    }
   },
   "source": [
    "## Try cross-validation"
   ]
  },
  {
   "cell_type": "code",
   "execution_count": 0,
   "metadata": {
    "application/vnd.databricks.v1+cell": {
     "inputWidgets": {},
     "nuid": "396a1da3-d066-4e82-a77d-bba165cb7790",
     "showTitle": false,
     "title": ""
    }
   },
   "outputs": [
    {
     "data": {
      "text/html": [
       "<style scoped>\n",
       "  .ansiout {\n",
       "    display: block;\n",
       "    unicode-bidi: embed;\n",
       "    white-space: pre-wrap;\n",
       "    word-wrap: break-word;\n",
       "    word-break: break-all;\n",
       "    font-family: \"Source Code Pro\", \"Menlo\", monospace;;\n",
       "    font-size: 13px;\n",
       "    color: #555;\n",
       "    margin-left: 4px;\n",
       "    line-height: 19px;\n",
       "  }\n",
       "</style>\n",
       "<div class=\"ansiout\"></div>"
      ]
     },
     "metadata": {
      "application/vnd.databricks.v1+output": {
       "addedWidgets": {},
       "arguments": {},
       "data": "<div class=\"ansiout\"></div>",
       "datasetInfos": [],
       "metadata": {},
       "removedWidgets": [],
       "type": "html"
      }
     },
     "output_type": "display_data"
    },
    {
     "data": {
      "text/html": [
       "<style scoped>\n",
       "  .ansiout {\n",
       "    display: block;\n",
       "    unicode-bidi: embed;\n",
       "    white-space: pre-wrap;\n",
       "    word-wrap: break-word;\n",
       "    word-break: break-all;\n",
       "    font-family: \"Source Code Pro\", \"Menlo\", monospace;;\n",
       "    font-size: 13px;\n",
       "    color: #555;\n",
       "    margin-left: 4px;\n",
       "    line-height: 19px;\n",
       "  }\n",
       "</style>"
      ]
     },
     "metadata": {
      "application/vnd.databricks.v1+output": {
       "arguments": {},
       "data": "",
       "errorSummary": "Cancelled",
       "errorTraceType": "html",
       "metadata": {},
       "type": "ipynbError"
      }
     },
     "output_type": "display_data"
    }
   ],
   "source": [
    "%%time\n",
    "from pyspark.ml.tuning import CrossValidator, ParamGridBuilder\n",
    "evaluator = RegressionEvaluator(labelCol=\"label\", predictionCol=\"prediction\", metricName=\"r2\")\n",
    "\n",
    "rf2 = RandomForestRegressor(featuresCol=\"features\", labelCol=\"label\")\n",
    "\n",
    "paramGrid = ParamGridBuilder() \\\n",
    "    .addGrid(rf2.maxDepth, [5, 10])\\\n",
    "    .addGrid(rf2.numTrees, [10, 50])\\\n",
    "    .build()\n",
    "\n",
    "cv = CrossValidator(estimator=rf2,\n",
    "                    evaluator=evaluator, \n",
    "                    numFolds=5,\n",
    "                    estimatorParamMaps=paramGrid)\n",
    "cv_model = cv.fit(feat_train)"
   ]
  },
  {
   "cell_type": "code",
   "execution_count": 0,
   "metadata": {
    "application/vnd.databricks.v1+cell": {
     "inputWidgets": {},
     "nuid": "101e2b53-e28d-4ab7-8ed2-a93a5b3749fa",
     "showTitle": false,
     "title": ""
    }
   },
   "outputs": [
    {
     "data": {
      "text/html": [
       "<style scoped>\n",
       "  .ansiout {\n",
       "    display: block;\n",
       "    unicode-bidi: embed;\n",
       "    white-space: pre-wrap;\n",
       "    word-wrap: break-word;\n",
       "    word-break: break-all;\n",
       "    font-family: \"Source Code Pro\", \"Menlo\", monospace;;\n",
       "    font-size: 13px;\n",
       "    color: #555;\n",
       "    margin-left: 4px;\n",
       "    line-height: 19px;\n",
       "  }\n",
       "</style>\n",
       "<div class=\"ansiout\">Out[26]: 0.9390575816242813</div>"
      ]
     },
     "metadata": {
      "application/vnd.databricks.v1+output": {
       "addedWidgets": {},
       "arguments": {},
       "data": "<div class=\"ansiout\">Out[26]: 0.9390575816242813</div>",
       "datasetInfos": [],
       "metadata": {},
       "removedWidgets": [],
       "type": "html"
      }
     },
     "output_type": "display_data"
    }
   ],
   "source": [
    "cv_predictions = cv_model.transform(feat_valid)\n",
    "evaluator.evaluate(cv_predictions)"
   ]
  },
  {
   "cell_type": "code",
   "execution_count": 0,
   "metadata": {
    "application/vnd.databricks.v1+cell": {
     "inputWidgets": {},
     "nuid": "f1d87349-a1dc-42c2-a9fd-09a3eaca1e5d",
     "showTitle": false,
     "title": ""
    }
   },
   "outputs": [
    {
     "data": {
      "text/html": [
       "<style scoped>\n",
       "  .ansiout {\n",
       "    display: block;\n",
       "    unicode-bidi: embed;\n",
       "    white-space: pre-wrap;\n",
       "    word-wrap: break-word;\n",
       "    word-break: break-all;\n",
       "    font-family: \"Source Code Pro\", \"Menlo\", monospace;;\n",
       "    font-size: 13px;\n",
       "    color: #555;\n",
       "    margin-left: 4px;\n",
       "    line-height: 19px;\n",
       "  }\n",
       "</style>\n",
       "<div class=\"ansiout\">Out[27]: 0.00940527872603869</div>"
      ]
     },
     "metadata": {
      "application/vnd.databricks.v1+output": {
       "addedWidgets": {},
       "arguments": {},
       "data": "<div class=\"ansiout\">Out[27]: 0.00940527872603869</div>",
       "datasetInfos": [],
       "metadata": {},
       "removedWidgets": [],
       "type": "html"
      }
     },
     "output_type": "display_data"
    }
   ],
   "source": [
    "evaluator = RegressionEvaluator(\n",
    "    labelCol=\"label\", predictionCol=\"prediction\", metricName=\"mse\")\n",
    "evaluator.evaluate(rf_predictions)"
   ]
  },
  {
   "cell_type": "markdown",
   "metadata": {
    "application/vnd.databricks.v1+cell": {
     "inputWidgets": {},
     "nuid": "e26bf573-28fa-435d-acfd-145034d716d7",
     "showTitle": false,
     "title": ""
    }
   },
   "source": [
    "The R square is too high, which violates our intuition. It might because we dont have a large dataset & have some abnormal data, let's do more exploratory processing"
   ]
  },
  {
   "cell_type": "markdown",
   "metadata": {
    "application/vnd.databricks.v1+cell": {
     "inputWidgets": {},
     "nuid": "ab76a8ec-49be-4765-a4d0-952cdf846288",
     "showTitle": false,
     "title": ""
    }
   },
   "source": [
    "## Log Transformation on features"
   ]
  },
  {
   "cell_type": "code",
   "execution_count": 0,
   "metadata": {
    "application/vnd.databricks.v1+cell": {
     "inputWidgets": {},
     "nuid": "ea7c94c2-2288-4241-87ed-72d5e26e65ec",
     "showTitle": false,
     "title": ""
    }
   },
   "outputs": [
    {
     "data": {
      "text/html": [
       "<style scoped>\n",
       "  .ansiout {\n",
       "    display: block;\n",
       "    unicode-bidi: embed;\n",
       "    white-space: pre-wrap;\n",
       "    word-wrap: break-word;\n",
       "    word-break: break-all;\n",
       "    font-family: \"Source Code Pro\", \"Menlo\", monospace;;\n",
       "    font-size: 13px;\n",
       "    color: #555;\n",
       "    margin-left: 4px;\n",
       "    line-height: 19px;\n",
       "  }\n",
       "</style>\n",
       "<div class=\"ansiout\">+------------------+-------------------+--------------------+--------------------+---------------------+\n",
       "             label| log_avg_like_count| log_avg_quote_count| log_avg_reply_count|log_avg_retweet_count|\n",
       "+------------------+-------------------+--------------------+--------------------+---------------------+\n",
       "  2.03300011344254| 0.6194594647687861|                 0.0| 0.08883121370661583|    1.990938740103536|\n",
       "2.0089999306946993|0.41970022393003636| 0.03174869831458027| 0.05745705502478721|   1.3479334932474445|\n",
       " 2.145000034943223| 0.3852252267604182|0.010869672236903891| 0.07371757589656765|    3.144010945904027|\n",
       "2.2410000674426556| 0.1859980315232633|                 0.0|0.021858793812499017|     0.77021052871954|\n",
       "2.4190000258386135|  0.328720259816895|                 0.0| 0.04750233398500326|  0.27270561826222356|\n",
       "+------------------+-------------------+--------------------+--------------------+---------------------+\n",
       "only showing top 5 rows\n",
       "\n",
       "</div>"
      ]
     },
     "metadata": {
      "application/vnd.databricks.v1+output": {
       "addedWidgets": {},
       "arguments": {},
       "data": "<div class=\"ansiout\">+------------------+-------------------+--------------------+--------------------+---------------------+\n|             label| log_avg_like_count| log_avg_quote_count| log_avg_reply_count|log_avg_retweet_count|\n+------------------+-------------------+--------------------+--------------------+---------------------+\n|  2.03300011344254| 0.6194594647687861|                 0.0| 0.08883121370661583|    1.990938740103536|\n|2.0089999306946993|0.41970022393003636| 0.03174869831458027| 0.05745705502478721|   1.3479334932474445|\n| 2.145000034943223| 0.3852252267604182|0.010869672236903891| 0.07371757589656765|    3.144010945904027|\n|2.2410000674426556| 0.1859980315232633|                 0.0|0.021858793812499017|     0.77021052871954|\n|2.4190000258386135|  0.328720259816895|                 0.0| 0.04750233398500326|  0.27270561826222356|\n+------------------+-------------------+--------------------+--------------------+---------------------+\nonly showing top 5 rows\n\n</div>",
       "datasetInfos": [],
       "metadata": {},
       "removedWidgets": [],
       "type": "html"
      }
     },
     "output_type": "display_data"
    }
   ],
   "source": [
    "# smooth and then take log to compress the data, making them dense\n",
    "from pyspark.sql.functions import log\n",
    "log_df = df_daily_price\n",
    "for col in df_daily_price.columns[:-1]:\n",
    "    log_df = log_df.withColumn(\"log_\"+col, log(df_daily_price[col]+1)).drop(col)\n",
    "log_df.show(5)"
   ]
  },
  {
   "cell_type": "code",
   "execution_count": 0,
   "metadata": {
    "application/vnd.databricks.v1+cell": {
     "inputWidgets": {},
     "nuid": "8ea8b7f0-30ce-4c8f-b055-1dba64266e6f",
     "showTitle": false,
     "title": ""
    }
   },
   "outputs": [
    {
     "data": {
      "text/html": [
       "<style scoped>\n",
       "  .ansiout {\n",
       "    display: block;\n",
       "    unicode-bidi: embed;\n",
       "    white-space: pre-wrap;\n",
       "    word-wrap: break-word;\n",
       "    word-break: break-all;\n",
       "    font-family: \"Source Code Pro\", \"Menlo\", monospace;;\n",
       "    font-size: 13px;\n",
       "    color: #555;\n",
       "    margin-left: 4px;\n",
       "    line-height: 19px;\n",
       "  }\n",
       "</style>\n",
       "<div class=\"ansiout\">+-------+-------------------+--------------------+--------------------+-------------------+---------------------+\n",
       "summary|              label|  log_avg_like_count| log_avg_quote_count|log_avg_reply_count|log_avg_retweet_count|\n",
       "+-------+-------------------+--------------------+--------------------+-------------------+---------------------+\n",
       "  count|                130|                 130|                 130|                130|                  130|\n",
       "   mean| 2.2749846192220082| 0.39607517518177365|0.015281646893124274|0.07275131492905054|   1.1575285458720275|\n",
       " stddev|0.36541576185041796| 0.27600957446886026|0.031229619911175222|0.08712673293918649|   0.6568321256564281|\n",
       "    min| 1.5369999455288053|0.051557809664850116|                 0.0|                0.0|   0.1561607307552825|\n",
       "    max| 3.2319999299943447|   1.752185960163547|  0.2890325115496525|  0.665748206371831|    3.144010945904027|\n",
       "+-------+-------------------+--------------------+--------------------+-------------------+---------------------+\n",
       "\n",
       "</div>"
      ]
     },
     "metadata": {
      "application/vnd.databricks.v1+output": {
       "addedWidgets": {},
       "arguments": {},
       "data": "<div class=\"ansiout\">+-------+-------------------+--------------------+--------------------+-------------------+---------------------+\n|summary|              label|  log_avg_like_count| log_avg_quote_count|log_avg_reply_count|log_avg_retweet_count|\n+-------+-------------------+--------------------+--------------------+-------------------+---------------------+\n|  count|                130|                 130|                 130|                130|                  130|\n|   mean| 2.2749846192220082| 0.39607517518177365|0.015281646893124274|0.07275131492905054|   1.1575285458720275|\n| stddev|0.36541576185041796| 0.27600957446886026|0.031229619911175222|0.08712673293918649|   0.6568321256564281|\n|    min| 1.5369999455288053|0.051557809664850116|                 0.0|                0.0|   0.1561607307552825|\n|    max| 3.2319999299943447|   1.752185960163547|  0.2890325115496525|  0.665748206371831|    3.144010945904027|\n+-------+-------------------+--------------------+--------------------+-------------------+---------------------+\n\n</div>",
       "datasetInfos": [],
       "metadata": {},
       "removedWidgets": [],
       "type": "html"
      }
     },
     "output_type": "display_data"
    }
   ],
   "source": [
    "# see distribution after log transformation\n",
    "log_df.describe().show()"
   ]
  },
  {
   "cell_type": "code",
   "execution_count": 0,
   "metadata": {
    "application/vnd.databricks.v1+cell": {
     "inputWidgets": {},
     "nuid": "12973dd3-8f27-4cb9-9b13-f5694fc2e075",
     "showTitle": false,
     "title": ""
    }
   },
   "outputs": [
    {
     "data": {
      "text/html": [
       "<style scoped>\n",
       "  .ansiout {\n",
       "    display: block;\n",
       "    unicode-bidi: embed;\n",
       "    white-space: pre-wrap;\n",
       "    word-wrap: break-word;\n",
       "    word-break: break-all;\n",
       "    font-family: \"Source Code Pro\", \"Menlo\", monospace;;\n",
       "    font-size: 13px;\n",
       "    color: #555;\n",
       "    margin-left: 4px;\n",
       "    line-height: 19px;\n",
       "  }\n",
       "</style>\n",
       "<div class=\"ansiout\"></div>"
      ]
     },
     "metadata": {
      "application/vnd.databricks.v1+output": {
       "addedWidgets": {},
       "arguments": {},
       "data": "<div class=\"ansiout\"></div>",
       "datasetInfos": [],
       "metadata": {},
       "removedWidgets": [],
       "type": "html"
      }
     },
     "output_type": "display_data"
    }
   ],
   "source": [
    "va = VectorAssembler(outputCol=\"features\", \n",
    "                     inputCols=log_df.columns[1:]) #except the first col\n",
    "log_avg_features = va.transform(log_df).select(\"features\", \"label\")"
   ]
  },
  {
   "cell_type": "code",
   "execution_count": 0,
   "metadata": {
    "application/vnd.databricks.v1+cell": {
     "inputWidgets": {},
     "nuid": "71b1056d-f1d2-4f8b-8082-4ebde0f05690",
     "showTitle": false,
     "title": ""
    }
   },
   "outputs": [
    {
     "data": {
      "text/html": [
       "<style scoped>\n",
       "  .ansiout {\n",
       "    display: block;\n",
       "    unicode-bidi: embed;\n",
       "    white-space: pre-wrap;\n",
       "    word-wrap: break-word;\n",
       "    word-break: break-all;\n",
       "    font-family: \"Source Code Pro\", \"Menlo\", monospace;;\n",
       "    font-size: 13px;\n",
       "    color: #555;\n",
       "    margin-left: 4px;\n",
       "    line-height: 19px;\n",
       "  }\n",
       "</style>\n",
       "<div class=\"ansiout\"></div>"
      ]
     },
     "metadata": {
      "application/vnd.databricks.v1+output": {
       "addedWidgets": {},
       "arguments": {},
       "data": "<div class=\"ansiout\"></div>",
       "datasetInfos": [],
       "metadata": {},
       "removedWidgets": [],
       "type": "html"
      }
     },
     "output_type": "display_data"
    }
   ],
   "source": [
    "#Divide the dataset into training and vaildation sets.\n",
    "splits = log_avg_features.randomSplit([0.8, 0.2])\n",
    "#cache() : the algorithm is interative and training and data sets are going to be reused many times.\n",
    "log_feat_train = splits[0].cache()\n",
    "log_feat_valid = splits[1].cache()"
   ]
  },
  {
   "cell_type": "code",
   "execution_count": 0,
   "metadata": {
    "application/vnd.databricks.v1+cell": {
     "inputWidgets": {},
     "nuid": "a2167fe5-067d-45f3-9c05-4be8c69df6fd",
     "showTitle": false,
     "title": ""
    }
   },
   "outputs": [
    {
     "data": {
      "text/html": [
       "<style scoped>\n",
       "  .ansiout {\n",
       "    display: block;\n",
       "    unicode-bidi: embed;\n",
       "    white-space: pre-wrap;\n",
       "    word-wrap: break-word;\n",
       "    word-break: break-all;\n",
       "    font-family: \"Source Code Pro\", \"Menlo\", monospace;;\n",
       "    font-size: 13px;\n",
       "    color: #555;\n",
       "    margin-left: 4px;\n",
       "    line-height: 19px;\n",
       "  }\n",
       "</style>\n",
       "<div class=\"ansiout\">CPU times: user 126 ms, sys: 56.1 ms, total: 182 ms\n",
       "Wall time: 36.6 s\n",
       "</div>"
      ]
     },
     "metadata": {
      "application/vnd.databricks.v1+output": {
       "addedWidgets": {},
       "arguments": {},
       "data": "<div class=\"ansiout\">CPU times: user 126 ms, sys: 56.1 ms, total: 182 ms\nWall time: 36.6 s\n</div>",
       "datasetInfos": [],
       "metadata": {},
       "removedWidgets": [],
       "type": "html"
      }
     },
     "output_type": "display_data"
    }
   ],
   "source": [
    "%%time\n",
    "# train the model\n",
    "rf_log = RandomForestRegressor(featuresCol=\"features\", labelCol=\"label\")\n",
    "rf_log_model = rf_log.fit(log_feat_train)"
   ]
  },
  {
   "cell_type": "code",
   "execution_count": 0,
   "metadata": {
    "application/vnd.databricks.v1+cell": {
     "inputWidgets": {},
     "nuid": "8bf292e5-2d29-4e65-b42f-7757a1ca4547",
     "showTitle": false,
     "title": ""
    }
   },
   "outputs": [
    {
     "data": {
      "text/html": [
       "<style scoped>\n",
       "  .ansiout {\n",
       "    display: block;\n",
       "    unicode-bidi: embed;\n",
       "    white-space: pre-wrap;\n",
       "    word-wrap: break-word;\n",
       "    word-break: break-all;\n",
       "    font-family: \"Source Code Pro\", \"Menlo\", monospace;;\n",
       "    font-size: 13px;\n",
       "    color: #555;\n",
       "    margin-left: 4px;\n",
       "    line-height: 19px;\n",
       "  }\n",
       "</style>\n",
       "<div class=\"ansiout\">Out[18]: -0.16013148673414235</div>"
      ]
     },
     "metadata": {
      "application/vnd.databricks.v1+output": {
       "addedWidgets": {},
       "arguments": {},
       "data": "<div class=\"ansiout\">Out[18]: -0.16013148673414235</div>",
       "datasetInfos": [],
       "metadata": {},
       "removedWidgets": [],
       "type": "html"
      }
     },
     "output_type": "display_data"
    }
   ],
   "source": [
    "# Make predictions.\n",
    "rf_log_predictions = rf_log_model.transform(log_feat_valid)\n",
    "\n",
    "# Select (prediction, true label) and compute test score\n",
    "evaluator = RegressionEvaluator(\n",
    "    labelCol=\"label\", predictionCol=\"prediction\", metricName=\"r2\")\n",
    "\n",
    "evaluator.evaluate(rf_log_predictions)"
   ]
  },
  {
   "cell_type": "code",
   "execution_count": 0,
   "metadata": {
    "application/vnd.databricks.v1+cell": {
     "inputWidgets": {},
     "nuid": "b661d1a2-1551-4725-894a-e116dfad8304",
     "showTitle": false,
     "title": ""
    }
   },
   "outputs": [
    {
     "data": {
      "text/html": [
       "<style scoped>\n",
       "  .ansiout {\n",
       "    display: block;\n",
       "    unicode-bidi: embed;\n",
       "    white-space: pre-wrap;\n",
       "    word-wrap: break-word;\n",
       "    word-break: break-all;\n",
       "    font-family: \"Source Code Pro\", \"Menlo\", monospace;;\n",
       "    font-size: 13px;\n",
       "    color: #555;\n",
       "    margin-left: 4px;\n",
       "    line-height: 19px;\n",
       "  }\n",
       "</style>\n",
       "<div class=\"ansiout\">Out[19]: 0.11553937308261054</div>"
      ]
     },
     "metadata": {
      "application/vnd.databricks.v1+output": {
       "addedWidgets": {},
       "arguments": {},
       "data": "<div class=\"ansiout\">Out[19]: 0.11553937308261054</div>",
       "datasetInfos": [],
       "metadata": {},
       "removedWidgets": [],
       "type": "html"
      }
     },
     "output_type": "display_data"
    }
   ],
   "source": [
    "evaluator = RegressionEvaluator(\n",
    "    labelCol=\"label\", predictionCol=\"prediction\", metricName=\"mse\")\n",
    "evaluator.evaluate(rf_log_predictions)"
   ]
  },
  {
   "cell_type": "markdown",
   "metadata": {
    "application/vnd.databricks.v1+cell": {
     "inputWidgets": {},
     "nuid": "32083221-2276-4fd0-ab58-cddfd0a1a654",
     "showTitle": false,
     "title": ""
    }
   },
   "source": [
    "After Log, the R square becomes negative, MSE is big"
   ]
  },
  {
   "cell_type": "markdown",
   "metadata": {
    "application/vnd.databricks.v1+cell": {
     "inputWidgets": {},
     "nuid": "f390103f-4570-4d2e-8924-39d31c527d61",
     "showTitle": false,
     "title": ""
    }
   },
   "source": [
    "## Truncate 95% on feature"
   ]
  },
  {
   "cell_type": "code",
   "execution_count": 0,
   "metadata": {
    "application/vnd.databricks.v1+cell": {
     "inputWidgets": {},
     "nuid": "13ba9c37-5290-47d1-a8dd-5fde06bdcf3f",
     "showTitle": false,
     "title": ""
    }
   },
   "outputs": [
    {
     "data": {
      "text/html": [
       "<style scoped>\n",
       "  .ansiout {\n",
       "    display: block;\n",
       "    unicode-bidi: embed;\n",
       "    white-space: pre-wrap;\n",
       "    word-wrap: break-word;\n",
       "    word-break: break-all;\n",
       "    font-family: \"Source Code Pro\", \"Menlo\", monospace;;\n",
       "    font-size: 13px;\n",
       "    color: #555;\n",
       "    margin-left: 4px;\n",
       "    line-height: 19px;\n",
       "  }\n",
       "</style>\n",
       "<div class=\"ansiout\"></div>"
      ]
     },
     "metadata": {
      "application/vnd.databricks.v1+output": {
       "addedWidgets": {},
       "arguments": {},
       "data": "<div class=\"ansiout\"></div>",
       "datasetInfos": [],
       "metadata": {},
       "removedWidgets": [],
       "type": "html"
      }
     },
     "output_type": "display_data"
    }
   ],
   "source": [
    "# function from https://stackoverflow.com/questions/55257351/clip-a-spark-dataframe-columns-by-its-95-and-5-values\n",
    "from pyspark.sql.functions import col, when\n",
    "\n",
    "def clip(df, cols, lower=0.05, upper=0.95, relativeError=0.001):\n",
    "    if not isinstance(cols, (list, tuple)):\n",
    "        cols = [cols]\n",
    "    # Create dictionary {column-name: [lower-quantile, upper-quantile]}\n",
    "    quantiles = {\n",
    "        c: (when(col(c) < lower, lower)        # Below lower quantile\n",
    "                .when(col(c) > upper, upper)   # Above upper quantile\n",
    "                .otherwise(col(c))             # Between quantiles\n",
    "                .alias(c))   \n",
    "        for c, (lower, upper) in \n",
    "        # Compute array of quantiles\n",
    "        zip(cols, df.stat.approxQuantile(cols, [lower, upper], relativeError))\n",
    "    }\n",
    "\n",
    "    return df.select([quantiles.get(c, col(c)) for c in df.columns])"
   ]
  },
  {
   "cell_type": "code",
   "execution_count": 0,
   "metadata": {
    "application/vnd.databricks.v1+cell": {
     "inputWidgets": {},
     "nuid": "c5cbe4a6-565b-417e-9612-c9f4a1013db2",
     "showTitle": false,
     "title": ""
    }
   },
   "outputs": [
    {
     "data": {
      "text/html": [
       "<style scoped>\n",
       "  .ansiout {\n",
       "    display: block;\n",
       "    unicode-bidi: embed;\n",
       "    white-space: pre-wrap;\n",
       "    word-wrap: break-word;\n",
       "    word-break: break-all;\n",
       "    font-family: \"Source Code Pro\", \"Menlo\", monospace;;\n",
       "    font-size: 13px;\n",
       "    color: #555;\n",
       "    margin-left: 4px;\n",
       "    line-height: 19px;\n",
       "  }\n",
       "</style>\n",
       "<div class=\"ansiout\">+-------------------+-------------------+--------------------+-------------------+------------------+\n",
       "     avg_like_count|    avg_quote_count|     avg_reply_count|  avg_retweet_count|             label|\n",
       "+-------------------+-------------------+--------------------+-------------------+------------------+\n",
       " 0.8579234972677595|                0.0| 0.09289617486338798|    6.3224043715847|  2.03300011344254|\n",
       "  0.521505376344086|0.03225806451612903| 0.05913978494623656|  2.849462365591398|2.0089999306946993|\n",
       "0.46994535519125685|0.01092896174863388| 0.07650273224043716|  10.80952380952381| 2.145000034943223|\n",
       "0.20441988950276244|                0.0|0.022099447513812154|  1.160220994475138|2.2410000674426556|\n",
       " 0.3891891891891892|                0.0| 0.04864864864864865|0.33152173913043476|2.4190000258386135|\n",
       "+-------------------+-------------------+--------------------+-------------------+------------------+\n",
       "only showing top 5 rows\n",
       "\n",
       "</div>"
      ]
     },
     "metadata": {
      "application/vnd.databricks.v1+output": {
       "addedWidgets": {},
       "arguments": {},
       "data": "<div class=\"ansiout\">+-------------------+-------------------+--------------------+-------------------+------------------+\n|     avg_like_count|    avg_quote_count|     avg_reply_count|  avg_retweet_count|             label|\n+-------------------+-------------------+--------------------+-------------------+------------------+\n| 0.8579234972677595|                0.0| 0.09289617486338798|    6.3224043715847|  2.03300011344254|\n|  0.521505376344086|0.03225806451612903| 0.05913978494623656|  2.849462365591398|2.0089999306946993|\n|0.46994535519125685|0.01092896174863388| 0.07650273224043716|  10.80952380952381| 2.145000034943223|\n|0.20441988950276244|                0.0|0.022099447513812154|  1.160220994475138|2.2410000674426556|\n| 0.3891891891891892|                0.0| 0.04864864864864865|0.33152173913043476|2.4190000258386135|\n+-------------------+-------------------+--------------------+-------------------+------------------+\nonly showing top 5 rows\n\n</div>",
       "datasetInfos": [],
       "metadata": {},
       "removedWidgets": [],
       "type": "html"
      }
     },
     "output_type": "display_data"
    }
   ],
   "source": [
    "truncate_df = clip(df_daily_price, df_daily_price.columns[1:])\n",
    "truncate_df.show(5)"
   ]
  },
  {
   "cell_type": "code",
   "execution_count": 0,
   "metadata": {
    "application/vnd.databricks.v1+cell": {
     "inputWidgets": {},
     "nuid": "45f3bda5-ecb1-4aae-8b38-a6729601a23c",
     "showTitle": false,
     "title": ""
    }
   },
   "outputs": [
    {
     "data": {
      "text/html": [
       "<style scoped>\n",
       "  .ansiout {\n",
       "    display: block;\n",
       "    unicode-bidi: embed;\n",
       "    white-space: pre-wrap;\n",
       "    word-wrap: break-word;\n",
       "    word-break: break-all;\n",
       "    font-family: \"Source Code Pro\", \"Menlo\", monospace;;\n",
       "    font-size: 13px;\n",
       "    color: #555;\n",
       "    margin-left: 4px;\n",
       "    line-height: 19px;\n",
       "  }\n",
       "</style>\n",
       "<div class=\"ansiout\">+-------+-------------------+--------------------+--------------------+-------------------+-------------------+\n",
       "summary|     avg_like_count|     avg_quote_count|     avg_reply_count|  avg_retweet_count|              label|\n",
       "+-------+-------------------+--------------------+--------------------+-------------------+-------------------+\n",
       "  count|                130|                 130|                 130|                130|                130|\n",
       "   mean| 0.5560234422777686|0.011631564470172856| 0.06718653902724202|  2.864268846755536|  2.274561535495405|\n",
       " stddev|  0.600160592361296|0.012451178268118852|0.051447430037013415| 2.7908181556867775|0.34241865193788235|\n",
       "    min|0.05291005291005291|                 0.0|0.005376344086021506|0.33152173913043476| 1.7229999648407102|\n",
       "    max|  4.767195767195767| 0.03783783783783784| 0.19786096256684493|  10.80952380952381|  2.985999919474125|\n",
       "+-------+-------------------+--------------------+--------------------+-------------------+-------------------+\n",
       "\n",
       "</div>"
      ]
     },
     "metadata": {
      "application/vnd.databricks.v1+output": {
       "addedWidgets": {},
       "arguments": {},
       "data": "<div class=\"ansiout\">+-------+-------------------+--------------------+--------------------+-------------------+-------------------+\n|summary|     avg_like_count|     avg_quote_count|     avg_reply_count|  avg_retweet_count|              label|\n+-------+-------------------+--------------------+--------------------+-------------------+-------------------+\n|  count|                130|                 130|                 130|                130|                130|\n|   mean| 0.5560234422777686|0.011631564470172856| 0.06718653902724202|  2.864268846755536|  2.274561535495405|\n| stddev|  0.600160592361296|0.012451178268118852|0.051447430037013415| 2.7908181556867775|0.34241865193788235|\n|    min|0.05291005291005291|                 0.0|0.005376344086021506|0.33152173913043476| 1.7229999648407102|\n|    max|  4.767195767195767| 0.03783783783783784| 0.19786096256684493|  10.80952380952381|  2.985999919474125|\n+-------+-------------------+--------------------+--------------------+-------------------+-------------------+\n\n</div>",
       "datasetInfos": [],
       "metadata": {},
       "removedWidgets": [],
       "type": "html"
      }
     },
     "output_type": "display_data"
    }
   ],
   "source": [
    "# see the new distribution\n",
    "truncate_df.describe().show()"
   ]
  },
  {
   "cell_type": "code",
   "execution_count": 0,
   "metadata": {
    "application/vnd.databricks.v1+cell": {
     "inputWidgets": {},
     "nuid": "20d624f6-c3d3-4fd4-b76c-eecac451b532",
     "showTitle": false,
     "title": ""
    }
   },
   "outputs": [
    {
     "data": {
      "text/html": [
       "<style scoped>\n",
       "  .ansiout {\n",
       "    display: block;\n",
       "    unicode-bidi: embed;\n",
       "    white-space: pre-wrap;\n",
       "    word-wrap: break-word;\n",
       "    word-break: break-all;\n",
       "    font-family: \"Source Code Pro\", \"Menlo\", monospace;;\n",
       "    font-size: 13px;\n",
       "    color: #555;\n",
       "    margin-left: 4px;\n",
       "    line-height: 19px;\n",
       "  }\n",
       "</style>\n",
       "<div class=\"ansiout\"></div>"
      ]
     },
     "metadata": {
      "application/vnd.databricks.v1+output": {
       "addedWidgets": {},
       "arguments": {},
       "data": "<div class=\"ansiout\"></div>",
       "datasetInfos": [],
       "metadata": {},
       "removedWidgets": [],
       "type": "html"
      }
     },
     "output_type": "display_data"
    }
   ],
   "source": [
    "va = VectorAssembler(outputCol=\"features\", \n",
    "                     inputCols=truncate_df.columns[1:]) #except the first col\n",
    "truncate_avg_features = va.transform(truncate_df).select(\"features\", \"label\")"
   ]
  },
  {
   "cell_type": "code",
   "execution_count": 0,
   "metadata": {
    "application/vnd.databricks.v1+cell": {
     "inputWidgets": {},
     "nuid": "259c74eb-d2b0-4bb7-a7be-374985746c2c",
     "showTitle": false,
     "title": ""
    }
   },
   "outputs": [
    {
     "data": {
      "text/html": [
       "<style scoped>\n",
       "  .ansiout {\n",
       "    display: block;\n",
       "    unicode-bidi: embed;\n",
       "    white-space: pre-wrap;\n",
       "    word-wrap: break-word;\n",
       "    word-break: break-all;\n",
       "    font-family: \"Source Code Pro\", \"Menlo\", monospace;;\n",
       "    font-size: 13px;\n",
       "    color: #555;\n",
       "    margin-left: 4px;\n",
       "    line-height: 19px;\n",
       "  }\n",
       "</style>\n",
       "<div class=\"ansiout\"></div>"
      ]
     },
     "metadata": {
      "application/vnd.databricks.v1+output": {
       "addedWidgets": {},
       "arguments": {},
       "data": "<div class=\"ansiout\"></div>",
       "datasetInfos": [],
       "metadata": {},
       "removedWidgets": [],
       "type": "html"
      }
     },
     "output_type": "display_data"
    }
   ],
   "source": [
    "#Divide the dataset into training and vaildation sets.\n",
    "splits = truncate_avg_features.randomSplit([0.8, 0.2])\n",
    "#cache() : the algorithm is interative and training and data sets are going to be reused many times.\n",
    "truncate_feat_train = splits[0].cache()\n",
    "truncate_feat_valid = splits[1].cache()"
   ]
  },
  {
   "cell_type": "code",
   "execution_count": 0,
   "metadata": {
    "application/vnd.databricks.v1+cell": {
     "inputWidgets": {},
     "nuid": "63755c28-3ff2-41ee-8efa-fa30d6367673",
     "showTitle": false,
     "title": ""
    }
   },
   "outputs": [
    {
     "data": {
      "text/html": [
       "<style scoped>\n",
       "  .ansiout {\n",
       "    display: block;\n",
       "    unicode-bidi: embed;\n",
       "    white-space: pre-wrap;\n",
       "    word-wrap: break-word;\n",
       "    word-break: break-all;\n",
       "    font-family: \"Source Code Pro\", \"Menlo\", monospace;;\n",
       "    font-size: 13px;\n",
       "    color: #555;\n",
       "    margin-left: 4px;\n",
       "    line-height: 19px;\n",
       "  }\n",
       "</style>\n",
       "<div class=\"ansiout\">CPU times: user 78.4 ms, sys: 36.8 ms, total: 115 ms\n",
       "Wall time: 25.1 s\n",
       "</div>"
      ]
     },
     "metadata": {
      "application/vnd.databricks.v1+output": {
       "addedWidgets": {},
       "arguments": {},
       "data": "<div class=\"ansiout\">CPU times: user 78.4 ms, sys: 36.8 ms, total: 115 ms\nWall time: 25.1 s\n</div>",
       "datasetInfos": [],
       "metadata": {},
       "removedWidgets": [],
       "type": "html"
      }
     },
     "output_type": "display_data"
    }
   ],
   "source": [
    "%%time\n",
    "# train the model\n",
    "rf_truncate = RandomForestRegressor(featuresCol=\"features\", labelCol=\"label\")\n",
    "rf_truncate_model = rf_truncate.fit(truncate_feat_train)"
   ]
  },
  {
   "cell_type": "code",
   "execution_count": 0,
   "metadata": {
    "application/vnd.databricks.v1+cell": {
     "inputWidgets": {},
     "nuid": "cd9a0e89-39f0-4df0-9c4a-8758c6e80a32",
     "showTitle": false,
     "title": ""
    }
   },
   "outputs": [
    {
     "data": {
      "text/html": [
       "<style scoped>\n",
       "  .ansiout {\n",
       "    display: block;\n",
       "    unicode-bidi: embed;\n",
       "    white-space: pre-wrap;\n",
       "    word-wrap: break-word;\n",
       "    word-break: break-all;\n",
       "    font-family: \"Source Code Pro\", \"Menlo\", monospace;;\n",
       "    font-size: 13px;\n",
       "    color: #555;\n",
       "    margin-left: 4px;\n",
       "    line-height: 19px;\n",
       "  }\n",
       "</style>\n",
       "<div class=\"ansiout\">Out[45]: 0.9251318974594803</div>"
      ]
     },
     "metadata": {
      "application/vnd.databricks.v1+output": {
       "addedWidgets": {},
       "arguments": {},
       "data": "<div class=\"ansiout\">Out[45]: 0.9251318974594803</div>",
       "datasetInfos": [],
       "metadata": {},
       "removedWidgets": [],
       "type": "html"
      }
     },
     "output_type": "display_data"
    }
   ],
   "source": [
    "# Make predictions.\n",
    "rf_truncate_predictions = rf_truncate_model.transform(truncate_feat_valid)\n",
    "\n",
    "# Select (prediction, true label) and compute test score\n",
    "evaluator = RegressionEvaluator(\n",
    "    labelCol=\"label\", predictionCol=\"prediction\", metricName=\"r2\")\n",
    "\n",
    "evaluator.evaluate(rf_truncate_predictions)"
   ]
  },
  {
   "cell_type": "code",
   "execution_count": 0,
   "metadata": {
    "application/vnd.databricks.v1+cell": {
     "inputWidgets": {},
     "nuid": "e5d8dbb9-b3b2-4109-bc2c-796590a2c728",
     "showTitle": false,
     "title": ""
    }
   },
   "outputs": [
    {
     "data": {
      "text/html": [
       "<style scoped>\n",
       "  .ansiout {\n",
       "    display: block;\n",
       "    unicode-bidi: embed;\n",
       "    white-space: pre-wrap;\n",
       "    word-wrap: break-word;\n",
       "    word-break: break-all;\n",
       "    font-family: \"Source Code Pro\", \"Menlo\", monospace;;\n",
       "    font-size: 13px;\n",
       "    color: #555;\n",
       "    margin-left: 4px;\n",
       "    line-height: 19px;\n",
       "  }\n",
       "</style>\n",
       "<div class=\"ansiout\">Out[46]: 0.007389090400452941</div>"
      ]
     },
     "metadata": {
      "application/vnd.databricks.v1+output": {
       "addedWidgets": {},
       "arguments": {},
       "data": "<div class=\"ansiout\">Out[46]: 0.007389090400452941</div>",
       "datasetInfos": [],
       "metadata": {},
       "removedWidgets": [],
       "type": "html"
      }
     },
     "output_type": "display_data"
    }
   ],
   "source": [
    "evaluator = RegressionEvaluator(\n",
    "    labelCol=\"label\", predictionCol=\"prediction\", metricName=\"mse\")\n",
    "evaluator.evaluate(rf_truncate_predictions)"
   ]
  },
  {
   "cell_type": "markdown",
   "metadata": {
    "application/vnd.databricks.v1+cell": {
     "inputWidgets": {},
     "nuid": "4a4430b2-c12b-4914-94bd-e810d143a6d8",
     "showTitle": false,
     "title": ""
    }
   },
   "source": [
    "# Linear regression "
   ]
  },
  {
   "cell_type": "code",
   "execution_count": 0,
   "metadata": {
    "application/vnd.databricks.v1+cell": {
     "inputWidgets": {},
     "nuid": "2ed30f8e-7373-4068-a9c8-37f8b4137153",
     "showTitle": false,
     "title": ""
    }
   },
   "outputs": [
    {
     "data": {
      "text/html": [
       "<style scoped>\n",
       "  .ansiout {\n",
       "    display: block;\n",
       "    unicode-bidi: embed;\n",
       "    white-space: pre-wrap;\n",
       "    word-wrap: break-word;\n",
       "    word-break: break-all;\n",
       "    font-family: \"Source Code Pro\", \"Menlo\", monospace;;\n",
       "    font-size: 13px;\n",
       "    color: #555;\n",
       "    margin-left: 4px;\n",
       "    line-height: 19px;\n",
       "  }\n",
       "</style>\n",
       "<div class=\"ansiout\"></div>"
      ]
     },
     "metadata": {
      "application/vnd.databricks.v1+output": {
       "addedWidgets": {},
       "arguments": {},
       "data": "<div class=\"ansiout\"></div>",
       "datasetInfos": [],
       "metadata": {},
       "removedWidgets": [],
       "type": "html"
      }
     },
     "output_type": "display_data"
    }
   ],
   "source": [
    "from pyspark.ml.feature import StandardScaler\n",
    "from pyspark.ml.regression import LinearRegression\n",
    "from pyspark.ml.evaluation import RegressionEvaluator"
   ]
  },
  {
   "cell_type": "markdown",
   "metadata": {
    "application/vnd.databricks.v1+cell": {
     "inputWidgets": {},
     "nuid": "157b2e05-a9e3-41e8-86d4-8b6e9172bbfb",
     "showTitle": false,
     "title": ""
    }
   },
   "source": [
    "## Train linear regression model"
   ]
  },
  {
   "cell_type": "code",
   "execution_count": 0,
   "metadata": {
    "application/vnd.databricks.v1+cell": {
     "inputWidgets": {},
     "nuid": "6ac1aa0a-6409-452e-aaca-22dc1b97631a",
     "showTitle": false,
     "title": ""
    }
   },
   "outputs": [
    {
     "data": {
      "text/html": [
       "<style scoped>\n",
       "  .ansiout {\n",
       "    display: block;\n",
       "    unicode-bidi: embed;\n",
       "    white-space: pre-wrap;\n",
       "    word-wrap: break-word;\n",
       "    word-break: break-all;\n",
       "    font-family: \"Source Code Pro\", \"Menlo\", monospace;;\n",
       "    font-size: 13px;\n",
       "    color: #555;\n",
       "    margin-left: 4px;\n",
       "    line-height: 19px;\n",
       "  }\n",
       "</style>\n",
       "<div class=\"ansiout\">CPU times: user 24.9 ms, sys: 12.3 ms, total: 37.3 ms\n",
       "Wall time: 5.18 s\n",
       "</div>"
      ]
     },
     "metadata": {
      "application/vnd.databricks.v1+output": {
       "addedWidgets": {},
       "arguments": {},
       "data": "<div class=\"ansiout\">CPU times: user 24.9 ms, sys: 12.3 ms, total: 37.3 ms\nWall time: 5.18 s\n</div>",
       "datasetInfos": [],
       "metadata": {},
       "removedWidgets": [],
       "type": "html"
      }
     },
     "output_type": "display_data"
    }
   ],
   "source": [
    "%%time\n",
    "# train the model\n",
    "lr_before = LinearRegression(maxIter=10, regParam=0.3, elasticNetParam=0.8)\n",
    "lr_before_model = lr_before.fit(feat_train)"
   ]
  },
  {
   "cell_type": "markdown",
   "metadata": {
    "application/vnd.databricks.v1+cell": {
     "inputWidgets": {},
     "nuid": "e087dcaf-e01a-4fbd-a1ae-fac2d7ce2016",
     "showTitle": false,
     "title": ""
    }
   },
   "source": [
    "## Evaluate Linear regression model"
   ]
  },
  {
   "cell_type": "code",
   "execution_count": 0,
   "metadata": {
    "application/vnd.databricks.v1+cell": {
     "inputWidgets": {},
     "nuid": "3898f6fa-a07f-4867-a395-e9e21f521444",
     "showTitle": false,
     "title": ""
    }
   },
   "outputs": [
    {
     "data": {
      "text/html": [
       "<style scoped>\n",
       "  .ansiout {\n",
       "    display: block;\n",
       "    unicode-bidi: embed;\n",
       "    white-space: pre-wrap;\n",
       "    word-wrap: break-word;\n",
       "    word-break: break-all;\n",
       "    font-family: \"Source Code Pro\", \"Menlo\", monospace;;\n",
       "    font-size: 13px;\n",
       "    color: #555;\n",
       "    margin-left: 4px;\n",
       "    line-height: 19px;\n",
       "  }\n",
       "</style>\n",
       "<div class=\"ansiout\">Out[60]: 0.5115248609799059</div>"
      ]
     },
     "metadata": {
      "application/vnd.databricks.v1+output": {
       "addedWidgets": {},
       "arguments": {},
       "data": "<div class=\"ansiout\">Out[60]: 0.5115248609799059</div>",
       "datasetInfos": [],
       "metadata": {},
       "removedWidgets": [],
       "type": "html"
      }
     },
     "output_type": "display_data"
    }
   ],
   "source": [
    "# Make predictions.\n",
    "lr_before_predictions = lr_before_model.transform(feat_valid)\n",
    "\n",
    "# Select (prediction, true label) and compute test score\n",
    "evaluator = RegressionEvaluator(\n",
    "    labelCol=\"label\", predictionCol=\"prediction\", metricName=\"r2\")\n",
    "\n",
    "evaluator.evaluate(lr_before_predictions)"
   ]
  },
  {
   "cell_type": "code",
   "execution_count": 0,
   "metadata": {
    "application/vnd.databricks.v1+cell": {
     "inputWidgets": {},
     "nuid": "93807850-4a99-4bfb-8f9e-319364a8ffb6",
     "showTitle": false,
     "title": ""
    }
   },
   "outputs": [
    {
     "data": {
      "text/html": [
       "<style scoped>\n",
       "  .ansiout {\n",
       "    display: block;\n",
       "    unicode-bidi: embed;\n",
       "    white-space: pre-wrap;\n",
       "    word-wrap: break-word;\n",
       "    word-break: break-all;\n",
       "    font-family: \"Source Code Pro\", \"Menlo\", monospace;;\n",
       "    font-size: 13px;\n",
       "    color: #555;\n",
       "    margin-left: 4px;\n",
       "    line-height: 19px;\n",
       "  }\n",
       "</style>\n",
       "<div class=\"ansiout\">Out[61]: 0.055334456914949356</div>"
      ]
     },
     "metadata": {
      "application/vnd.databricks.v1+output": {
       "addedWidgets": {},
       "arguments": {},
       "data": "<div class=\"ansiout\">Out[61]: 0.055334456914949356</div>",
       "datasetInfos": [],
       "metadata": {},
       "removedWidgets": [],
       "type": "html"
      }
     },
     "output_type": "display_data"
    }
   ],
   "source": [
    "# Select (prediction, true label) and compute test error\n",
    "evaluator = RegressionEvaluator(\n",
    "    labelCol=\"label\", predictionCol=\"prediction\", metricName=\"mse\")\n",
    "\n",
    "evaluator.evaluate(lr_before_predictions)"
   ]
  },
  {
   "cell_type": "markdown",
   "metadata": {
    "application/vnd.databricks.v1+cell": {
     "inputWidgets": {},
     "nuid": "75256c46-ccf7-47b8-8eeb-179a5b25dbab",
     "showTitle": false,
     "title": ""
    }
   },
   "source": [
    "## Train linear model on standardize features"
   ]
  },
  {
   "cell_type": "code",
   "execution_count": 0,
   "metadata": {
    "application/vnd.databricks.v1+cell": {
     "inputWidgets": {},
     "nuid": "094a9a7b-6739-4d4e-b27d-fb505ba3bb2a",
     "showTitle": false,
     "title": ""
    }
   },
   "outputs": [
    {
     "data": {
      "text/html": [
       "<style scoped>\n",
       "  .ansiout {\n",
       "    display: block;\n",
       "    unicode-bidi: embed;\n",
       "    white-space: pre-wrap;\n",
       "    word-wrap: break-word;\n",
       "    word-break: break-all;\n",
       "    font-family: \"Source Code Pro\", \"Menlo\", monospace;;\n",
       "    font-size: 13px;\n",
       "    color: #555;\n",
       "    margin-left: 4px;\n",
       "    line-height: 19px;\n",
       "  }\n",
       "</style>\n",
       "<div class=\"ansiout\">CPU times: user 24.5 ms, sys: 2 ms, total: 26.5 ms\n",
       "Wall time: 849 ms\n",
       "</div>"
      ]
     },
     "metadata": {
      "application/vnd.databricks.v1+output": {
       "addedWidgets": {},
       "arguments": {},
       "data": "<div class=\"ansiout\">CPU times: user 24.5 ms, sys: 2 ms, total: 26.5 ms\nWall time: 849 ms\n</div>",
       "datasetInfos": [],
       "metadata": {},
       "removedWidgets": [],
       "type": "html"
      }
     },
     "output_type": "display_data"
    }
   ],
   "source": [
    "%%time\n",
    "scaler = StandardScaler(withStd=True, withMean=True)\n",
    "scaler.setInputCol(\"features\").setOutputCol(\"features_scaled\")\n",
    "sc_model = scaler.fit(feat_train)\n",
    "scaled_train = sc_model.transform(feat_train).drop(\"features\").withColumnRenamed(\"features_scaled\", \"features\")\n",
    "scaled_valid = sc_model.transform(feat_valid).drop(\"features\").withColumnRenamed(\"features_scaled\", \"features\")"
   ]
  },
  {
   "cell_type": "code",
   "execution_count": 0,
   "metadata": {
    "application/vnd.databricks.v1+cell": {
     "inputWidgets": {},
     "nuid": "a2953176-af73-4ca7-9afb-bf3c7181ac97",
     "showTitle": false,
     "title": ""
    }
   },
   "outputs": [
    {
     "data": {
      "text/html": [
       "<style scoped>\n",
       "  .ansiout {\n",
       "    display: block;\n",
       "    unicode-bidi: embed;\n",
       "    white-space: pre-wrap;\n",
       "    word-wrap: break-word;\n",
       "    word-break: break-all;\n",
       "    font-family: \"Source Code Pro\", \"Menlo\", monospace;;\n",
       "    font-size: 13px;\n",
       "    color: #555;\n",
       "    margin-left: 4px;\n",
       "    line-height: 19px;\n",
       "  }\n",
       "</style>\n",
       "<div class=\"ansiout\">+------------------+--------------------+\n",
       "             label|            features|\n",
       "+------------------+--------------------+\n",
       "2.0089999306946993|[0.46537583872370...|\n",
       " 2.145000034943223|[-0.1422488004826...|\n",
       "2.2410000674426556|[-0.4535936569355...|\n",
       "2.4190000258386135|[-0.4535936569355...|\n",
       " 2.432999899610877|[0.00100295527887...|\n",
       "+------------------+--------------------+\n",
       "only showing top 5 rows\n",
       "\n",
       "</div>"
      ]
     },
     "metadata": {
      "application/vnd.databricks.v1+output": {
       "addedWidgets": {},
       "arguments": {},
       "data": "<div class=\"ansiout\">+------------------+--------------------+\n|             label|            features|\n+------------------+--------------------+\n|2.0089999306946993|[0.46537583872370...|\n| 2.145000034943223|[-0.1422488004826...|\n|2.2410000674426556|[-0.4535936569355...|\n|2.4190000258386135|[-0.4535936569355...|\n| 2.432999899610877|[0.00100295527887...|\n+------------------+--------------------+\nonly showing top 5 rows\n\n</div>",
       "datasetInfos": [],
       "metadata": {},
       "removedWidgets": [],
       "type": "html"
      }
     },
     "output_type": "display_data"
    }
   ],
   "source": [
    "scaled_train.show(5)"
   ]
  },
  {
   "cell_type": "code",
   "execution_count": 0,
   "metadata": {
    "application/vnd.databricks.v1+cell": {
     "inputWidgets": {},
     "nuid": "4e86bd7d-04c5-4986-84e8-18d4114fdedc",
     "showTitle": false,
     "title": ""
    }
   },
   "outputs": [
    {
     "data": {
      "text/html": [
       "<style scoped>\n",
       "  .ansiout {\n",
       "    display: block;\n",
       "    unicode-bidi: embed;\n",
       "    white-space: pre-wrap;\n",
       "    word-wrap: break-word;\n",
       "    word-break: break-all;\n",
       "    font-family: \"Source Code Pro\", \"Menlo\", monospace;;\n",
       "    font-size: 13px;\n",
       "    color: #555;\n",
       "    margin-left: 4px;\n",
       "    line-height: 19px;\n",
       "  }\n",
       "</style>\n",
       "<div class=\"ansiout\">CPU times: user 13.4 ms, sys: 1.33 ms, total: 14.8 ms\n",
       "Wall time: 1.13 s\n",
       "</div>"
      ]
     },
     "metadata": {
      "application/vnd.databricks.v1+output": {
       "addedWidgets": {},
       "arguments": {},
       "data": "<div class=\"ansiout\">CPU times: user 13.4 ms, sys: 1.33 ms, total: 14.8 ms\nWall time: 1.13 s\n</div>",
       "datasetInfos": [],
       "metadata": {},
       "removedWidgets": [],
       "type": "html"
      }
     },
     "output_type": "display_data"
    }
   ],
   "source": [
    "%%time\n",
    "# train the model\n",
    "lr = LinearRegression(maxIter=10, regParam=0.3, elasticNetParam=0.8)\n",
    "lr_model = lr.fit(scaled_train)"
   ]
  },
  {
   "cell_type": "code",
   "execution_count": 0,
   "metadata": {
    "application/vnd.databricks.v1+cell": {
     "inputWidgets": {},
     "nuid": "671903f0-124f-4b10-8fde-ceeb639da7f6",
     "showTitle": false,
     "title": ""
    }
   },
   "outputs": [
    {
     "data": {
      "text/html": [
       "<style scoped>\n",
       "  .ansiout {\n",
       "    display: block;\n",
       "    unicode-bidi: embed;\n",
       "    white-space: pre-wrap;\n",
       "    word-wrap: break-word;\n",
       "    word-break: break-all;\n",
       "    font-family: \"Source Code Pro\", \"Menlo\", monospace;;\n",
       "    font-size: 13px;\n",
       "    color: #555;\n",
       "    margin-left: 4px;\n",
       "    line-height: 19px;\n",
       "  }\n",
       "</style>\n",
       "<div class=\"ansiout\">Out[65]: 0.5115248609799116</div>"
      ]
     },
     "metadata": {
      "application/vnd.databricks.v1+output": {
       "addedWidgets": {},
       "arguments": {},
       "data": "<div class=\"ansiout\">Out[65]: 0.5115248609799116</div>",
       "datasetInfos": [],
       "metadata": {},
       "removedWidgets": [],
       "type": "html"
      }
     },
     "output_type": "display_data"
    }
   ],
   "source": [
    "# Make predictions.\n",
    "lr_predictions = lr_model.transform(scaled_valid)\n",
    "\n",
    "# Select (prediction, true label) and compute test score\n",
    "evaluator = RegressionEvaluator(\n",
    "    labelCol=\"label\", predictionCol=\"prediction\", metricName=\"r2\")\n",
    "\n",
    "evaluator.evaluate(lr_predictions)"
   ]
  },
  {
   "cell_type": "code",
   "execution_count": 0,
   "metadata": {
    "application/vnd.databricks.v1+cell": {
     "inputWidgets": {},
     "nuid": "bc51160f-77ff-4372-8186-0bf48b6f1aca",
     "showTitle": false,
     "title": ""
    }
   },
   "outputs": [
    {
     "data": {
      "text/html": [
       "<style scoped>\n",
       "  .ansiout {\n",
       "    display: block;\n",
       "    unicode-bidi: embed;\n",
       "    white-space: pre-wrap;\n",
       "    word-wrap: break-word;\n",
       "    word-break: break-all;\n",
       "    font-family: \"Source Code Pro\", \"Menlo\", monospace;;\n",
       "    font-size: 13px;\n",
       "    color: #555;\n",
       "    margin-left: 4px;\n",
       "    line-height: 19px;\n",
       "  }\n",
       "</style>\n",
       "<div class=\"ansiout\">Out[66]: 0.05533445691494869</div>"
      ]
     },
     "metadata": {
      "application/vnd.databricks.v1+output": {
       "addedWidgets": {},
       "arguments": {},
       "data": "<div class=\"ansiout\">Out[66]: 0.05533445691494869</div>",
       "datasetInfos": [],
       "metadata": {},
       "removedWidgets": [],
       "type": "html"
      }
     },
     "output_type": "display_data"
    }
   ],
   "source": [
    "# Select (prediction, true label) and compute test error\n",
    "evaluator = RegressionEvaluator(\n",
    "    labelCol=\"label\", predictionCol=\"prediction\", metricName=\"mse\")\n",
    "\n",
    "evaluator.evaluate(lr_predictions)"
   ]
  }
 ],
 "metadata": {
  "application/vnd.databricks.v1+notebook": {
   "dashboards": [],
   "language": "python",
   "notebookMetadata": {
    "pythonIndentUnit": 4
   },
   "notebookName": "MultifeaturesPredict",
   "notebookOrigID": 652468018568228,
   "widgets": {}
  },
  "kernelspec": {
   "display_name": "Python 3",
   "language": "python",
   "name": "python3"
  },
  "language_info": {
   "codemirror_mode": {
    "name": "ipython",
    "version": 3
   },
   "file_extension": ".py",
   "mimetype": "text/x-python",
   "name": "python",
   "nbconvert_exporter": "python",
   "pygments_lexer": "ipython3",
   "version": "3.8.8"
  }
 },
 "nbformat": 4,
 "nbformat_minor": 1
}
